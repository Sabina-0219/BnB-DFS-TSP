{
  "nbformat": 4,
  "nbformat_minor": 0,
  "metadata": {
    "colab": {
      "provenance": [],
      "authorship_tag": "ABX9TyPdFLkkLIusDvDD9exxMFaa",
      "include_colab_link": true
    },
    "kernelspec": {
      "name": "python3",
      "display_name": "Python 3"
    },
    "language_info": {
      "name": "python"
    }
  },
  "cells": [
    {
      "cell_type": "markdown",
      "metadata": {
        "id": "view-in-github",
        "colab_type": "text"
      },
      "source": [
        "<a href=\"https://colab.research.google.com/github/Sabina-0219/BnB-DFS-TSP/blob/main/BnB_DFS_TSP.ipynb\" target=\"_parent\"><img src=\"https://colab.research.google.com/assets/colab-badge.svg\" alt=\"Open In Colab\"/></a>"
      ]
    },
    {
      "cell_type": "code",
      "source": [
        "graph = [[0, 10, 15, 20],\n",
        "        [10, 0, 35, 25],\n",
        "        [15, 35, 0, 30],\n",
        "        [20, 25, 30, 0]]\n",
        "n = len(graph)\n",
        "upper_bound = float('inf')\n",
        "res_path = []"
      ],
      "metadata": {
        "id": "Pq2F4FwSvK6f"
      },
      "execution_count": 106,
      "outputs": []
    },
    {
      "cell_type": "code",
      "source": [
        "def firstMinEdge(node):\n",
        "  min_edge = float('inf')\n",
        "  for j in range(n):\n",
        "    if j != node and graph[node][j] < min_edge:\n",
        "      min_edge = graph[node][j]\n",
        "  return min_edge"
      ],
      "metadata": {
        "id": "YADmUiYwu-OW"
      },
      "execution_count": 107,
      "outputs": []
    },
    {
      "cell_type": "code",
      "source": [
        "def secondMinEdge(node):\n",
        "  first_min = second_min = float('inf')\n",
        "  for j in range(n):\n",
        "    if j != node:\n",
        "      if graph[node][j] <= first_min:\n",
        "        first_min, second_min = graph[node][j], first_min\n",
        "      elif graph[node][j] < second_min:\n",
        "        second_min = graph[node][j]\n",
        "  \n",
        "  return second_min"
      ],
      "metadata": {
        "id": "TgDL5tO0u-6C"
      },
      "execution_count": 108,
      "outputs": []
    },
    {
      "cell_type": "code",
      "source": [
        "def dfs(seen, heur, path_len, path):\n",
        "  global upper_bound\n",
        "  global res_path\n",
        "  cur_node = path[-1]\n",
        "  level = len(path)\n",
        "  if level == n:\n",
        "    first_node = path[0]\n",
        "    if graph[cur_node][first_node]:\n",
        "      path_len += graph[cur_node][first_node]\n",
        "      if path_len < upper_bound:\n",
        "        upper_bound = path_len\n",
        "        res_path = path + [first_node]\n",
        "    return\n",
        "\n",
        "\n",
        "  for neib in range(n):\n",
        "    if graph[cur_node][neib] and neib not in seen:\n",
        "      tmp = heur\n",
        "      path_len += graph[cur_node][neib]\n",
        "      if level == 1:\n",
        "        heur = heur - (firstMinEdge(cur_node) + firstMinEdge(neib))//2\n",
        "      else:\n",
        "        heur = heur - (secondMinEdge(cur_node) + firstMinEdge(neib))//2\n",
        "      \n",
        "      if heur + path_len < upper_bound:\n",
        "        seen.add(neib)\n",
        "        dfs(seen, heur, path_len, path+[neib])\n",
        "\n",
        "        seen.remove(neib)\n",
        "        heur = tmp\n",
        "        path_len -= graph[cur_node][neib]\n",
        "\n",
        "\n",
        "\n",
        "  "
      ],
      "metadata": {
        "id": "AzcKJGZP7CtU"
      },
      "execution_count": 109,
      "outputs": []
    },
    {
      "cell_type": "code",
      "execution_count": 110,
      "metadata": {
        "id": "s4ihAxwdsN_M"
      },
      "outputs": [],
      "source": [
        "def TSP():\n",
        "  heur = 0\n",
        "  for i in range(n):\n",
        "    heur += (firstMinEdge(i) + secondMinEdge(i))\n",
        "  \n",
        "  heur //= 2\n",
        "  seen = set([0])\n",
        "  dfs(seen, heur, 0, [0])"
      ]
    },
    {
      "cell_type": "code",
      "source": [
        "TSP()\n",
        "print(f\"shortest path: {res_path}\")\n",
        "print(f\"path lenth: {upper_bound}\")"
      ],
      "metadata": {
        "id": "PBOxYRr3xbYc",
        "colab": {
          "base_uri": "https://localhost:8080/"
        },
        "outputId": "b0939c5b-8910-4caa-8898-07dac89e258a"
      },
      "execution_count": 111,
      "outputs": [
        {
          "output_type": "stream",
          "name": "stdout",
          "text": [
            "shortest path: [3, 1, 0, 2, 3]\n",
            "path lenth: 80\n"
          ]
        }
      ]
    }
  ]
}