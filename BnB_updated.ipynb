{
  "nbformat": 4,
  "nbformat_minor": 0,
  "metadata": {
    "colab": {
      "provenance": [],
      "authorship_tag": "ABX9TyP48zzuzJJOzcVkMgerdALW",
      "include_colab_link": true
    },
    "kernelspec": {
      "name": "python3",
      "display_name": "Python 3"
    },
    "language_info": {
      "name": "python"
    }
  },
  "cells": [
    {
      "cell_type": "markdown",
      "metadata": {
        "id": "view-in-github",
        "colab_type": "text"
      },
      "source": [
        "<a href=\"https://colab.research.google.com/github/Sabina-0219/BnB-DFS-TSP/blob/main/BnB_updated.ipynb\" target=\"_parent\"><img src=\"https://colab.research.google.com/assets/colab-badge.svg\" alt=\"Open In Colab\"/></a>"
      ]
    },
    {
      "cell_type": "code",
      "execution_count": 3,
      "metadata": {
        "id": "PlBaWVnJui8Q",
        "colab": {
          "base_uri": "https://localhost:8080/"
        },
        "outputId": "c984fc26-a74a-4613-8dc5-f7ba022e8656"
      },
      "outputs": [
        {
          "output_type": "stream",
          "name": "stdout",
          "text": [
            "Solving TSP using BnB DFS: \n",
            "shortest path: [0, 1, 3, 2, 0]\n",
            "path lenth: 80\n"
          ]
        }
      ],
      "source": [
        "import math\n",
        "upper_bound = float('inf')\n",
        "res_path = []\n",
        "\n",
        "def firstMinEdge(node, graph, n):\n",
        "  min_edge = float('inf')\n",
        "  for j in range(n):\n",
        "    if j != node and graph[node][j] < min_edge:\n",
        "      min_edge = graph[node][j]\n",
        "  return min_edge\n",
        "\n",
        "def secondMinEdge(node, graph, n):\n",
        "  first_min = second_min = float('inf')\n",
        "  for j in range(n):\n",
        "    if j != node:\n",
        "      if graph[node][j] <= first_min:\n",
        "        first_min, second_min = graph[node][j], first_min\n",
        "      elif graph[node][j] < second_min:\n",
        "        second_min = graph[node][j]\n",
        "  \n",
        "  return second_min\n",
        "\n",
        "def dfs(seen, heur, path_len, path, graph, n):\n",
        "  global upper_bound\n",
        "  global res_path\n",
        "  cur_node = path[-1]\n",
        "  level = len(path)\n",
        "  if level == n:\n",
        "    first_node = path[0]\n",
        "    if graph[cur_node][first_node]:\n",
        "      path_len += graph[cur_node][first_node]\n",
        "      if path_len < upper_bound:\n",
        "        upper_bound = path_len\n",
        "        res_path = path + [first_node]\n",
        "    return\n",
        "\n",
        "\n",
        "  for neib in range(n):\n",
        "    if graph[cur_node][neib] and neib not in seen:\n",
        "      tmp = heur\n",
        "      path_len += graph[cur_node][neib]\n",
        "      if level == 1:\n",
        "        heur = heur - (firstMinEdge(cur_node, graph, n) + firstMinEdge(neib, graph, n))/2\n",
        "      else:\n",
        "        heur = heur - (secondMinEdge(cur_node, graph, n) + firstMinEdge(neib, graph, n))/2\n",
        "      \n",
        "      if heur + path_len < upper_bound:\n",
        "        seen.add(neib)\n",
        "        dfs(seen, heur, path_len, path+[neib], graph, n)\n",
        "        seen.remove(neib)\n",
        "      heur = tmp\n",
        "      path_len -= graph[cur_node][neib]\n",
        "\n",
        "def branch_n_bound(graph, n):\n",
        "  print('Solving TSP using BnB DFS: ')\n",
        "  heur = 0\n",
        "  for i in range(n):\n",
        "    heur += (firstMinEdge(i, graph, n) + secondMinEdge(i, graph, n))\n",
        "  \n",
        "  heur = math.ceil(heur/2)\n",
        "  seen = set([0])\n",
        "  dfs(seen, heur, 0, [0], graph, n)\n",
        "\n",
        "  return res_path, upper_bound\n",
        "\n",
        "\n",
        "graph = [[0, 10, 15, 20],\n",
        "        [10, 0, 35, 25],\n",
        "        [15, 35, 0, 30],\n",
        "        [20, 25, 30, 0]]\n",
        "n = len(graph)\n",
        "res_path, upper_bound = branch_n_bound(graph, n)\n",
        "print(f\"shortest path: {res_path}\")\n",
        "print(f\"path lenth: {upper_bound}\")\n"
      ]
    }
  ]
}